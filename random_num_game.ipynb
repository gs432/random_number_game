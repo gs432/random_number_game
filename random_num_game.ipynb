{
 "cells": [
  {
   "cell_type": "code",
   "execution_count": 8,
   "metadata": {},
   "outputs": [
    {
     "name": "stdout",
     "output_type": "stream",
     "text": [
      "Hello!  What's your name?Glenn\n",
      "Okay Glenn!  Let's play.  I'm thinking of a number between 1 and 10\n",
      "9\n",
      "Your guess is too high.  Try again.\n",
      "5\n",
      "Your guess is too high.  Try again.\n",
      "3\n",
      "Your guess is too low.  Try again.\n",
      "Out of tries.\n"
     ]
    }
   ],
   "source": [
    "import random\n",
    "number = random.randint(1, 10)\n",
    "\n",
    "player_name = input(\"Hello!  What's your name?\")\n",
    "number_of_guesses = 0\n",
    "print(\"Okay \" + player_name + \"!  Let's play.  I'm thinking of a number between 1 and 10\" )\n",
    "\n",
    "while number_of_guesses < 3:\n",
    "    guess = int(input())\n",
    "    number_of_guesses += 1\n",
    "    if guess < number:\n",
    "        print(\"Your guess is too low.  Try again.\")\n",
    "    if guess > number:\n",
    "        print(\"Your guess is too high.  Try again.\")\n",
    "    if guess == number: \n",
    "        break\n",
    "if guess == number: \n",
    "    print(\"You guessed it in \" + str(number_of_guesses) + \" tries.  Good job.\")\n",
    "else:\n",
    "    print(\"Out of tries.\")"
   ]
  }
 ],
 "metadata": {
  "kernelspec": {
   "display_name": "Python 3",
   "language": "python",
   "name": "python3"
  },
  "language_info": {
   "codemirror_mode": {
    "name": "ipython",
    "version": 3
   },
   "file_extension": ".py",
   "mimetype": "text/x-python",
   "name": "python",
   "nbconvert_exporter": "python",
   "pygments_lexer": "ipython3",
   "version": "3.8.3"
  }
 },
 "nbformat": 4,
 "nbformat_minor": 4
}
